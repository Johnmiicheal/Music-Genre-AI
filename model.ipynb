{
 "cells": [
  {
   "cell_type": "code",
   "execution_count": 22,
   "metadata": {},
   "outputs": [],
   "source": [
    "import librosa\n",
    "import librosa.feature\n",
    "import librosa.display\n",
    "import glob\n",
    "import numpy as np\n",
    "import matplotlib.pyplot as plt\n",
    "from keras.models import Sequential\n",
    "from keras.layers import Dense, Activation\n",
    "from keras.utils.np_utils import to_categorical"
   ]
  },
  {
   "cell_type": "code",
   "execution_count": 48,
   "metadata": {},
   "outputs": [],
   "source": [
    "def display_mfcc(src):\n",
    "    y,_ = librosa.load(src)\n",
    "    mfcc = librosa.feature.mfcc(y)\n",
    "    \n",
    "    plt.figure(figsize=(10,4))\n",
    "    librosa.display.specshow(mfcc, x_axis='time', y_axis='mel')\n",
    "    plt.colorbar()\n",
    "    plt.title(src)\n",
    "    plt.tight_layout()\n",
    "    plt.show()\n",
    "    \n",
    "\n",
    "def extract_features_song(src):\n",
    "    y, _ = librosa.load(src)\n",
    "    \n",
    "    #get mfcc\n",
    "    mfcc = librosa.feature.mfcc(y)\n",
    "    #normalize between -1 and 1\n",
    "    mfcc /= np.amax(np.absolute(mfcc))\n",
    "    \n",
    "    return np.ndarray.flatten(mfcc)[:25000]\n",
    "\n",
    "\n",
    "def generate_features_and_labels():\n",
    "    all_features = []\n",
    "    all_labels = []\n",
    "    \n",
    "    genres = ['blues', 'classical', 'country', 'disco', 'hiphop', 'jazz', 'metal', 'pop', 'reggae', 'rock']\n",
    "    for genre in genres:\n",
    "        sound_files = glob.glob('genres/'+genre+'/*.wav')\n",
    "        print(f'Processing {len(sound_files)} songs in {genre} genres ...')\n",
    "        for f in sound_files:\n",
    "            features = extract_features_song(f)\n",
    "            all_features.append(features)\n",
    "            all_labels.append(genre)\n",
    "            \n",
    "    label_uniq_ids, label_row_ids = np.unique(all_labels, return_inverse=True)\n",
    "    label_row_ids = label_row_ids.astype(np.int32, copy=False)\n",
    "    onehot_labels = to_categorical(label_row_ids, len(label_uniq_ids))\n",
    "    return np.stack(all_features), onehot_labels"
   ]
  },
  {
   "cell_type": "code",
   "execution_count": 44,
   "metadata": {},
   "outputs": [
    {
     "name": "stdout",
     "output_type": "stream",
     "text": [
      "Processing 100 songs in blues genres ...\n",
      "Processing 100 songs in classical genres ...\n",
      "Processing 100 songs in country genres ...\n",
      "Processing 100 songs in disco genres ...\n",
      "Processing 100 songs in hiphop genres ...\n",
      "Processing 100 songs in jazz genres ...\n",
      "Processing 100 songs in metal genres ...\n",
      "Processing 100 songs in pop genres ...\n",
      "Processing 100 songs in reggae genres ...\n",
      "Processing 100 songs in rock genres ...\n"
     ]
    }
   ],
   "source": [
    "features, labels = generate_features_and_labels()"
   ]
  },
  {
   "cell_type": "code",
   "execution_count": 45,
   "metadata": {},
   "outputs": [
    {
     "name": "stdout",
     "output_type": "stream",
     "text": [
      "(1000, 25000)\n",
      "(1000, 10)\n"
     ]
    }
   ],
   "source": [
    "print(np.shape(features))\n",
    "print(np.shape(labels))"
   ]
  },
  {
   "cell_type": "code",
   "execution_count": 46,
   "metadata": {},
   "outputs": [
    {
     "name": "stdout",
     "output_type": "stream",
     "text": [
      "[[-0.81999075 -0.81014305 -0.75184417 ... -0.01818394  0.01827242\n",
      "   0.01200242]\n",
      " [-0.6975779  -0.49866176 -0.34792846 ... -0.02948674 -0.01857815\n",
      "  -0.00916902]\n",
      " [-0.17461018 -0.20773984 -0.2802357  ...  0.00612161  0.00597738\n",
      "   0.00513895]\n",
      " ...\n",
      " [-0.54192156 -0.45409912 -0.4490566  ... -0.00735237 -0.00230275\n",
      "   0.01251489]\n",
      " [-0.35908    -0.39048278 -0.44910252 ... -0.00476223 -0.0132246\n",
      "  -0.01023068]\n",
      " [-0.56411064 -0.59761524 -0.64209867 ...  0.00814686  0.00670453\n",
      "   0.00592516]] [[1. 0. 0. ... 0. 0. 0.]\n",
      " [1. 0. 0. ... 0. 0. 0.]\n",
      " [1. 0. 0. ... 0. 0. 0.]\n",
      " ...\n",
      " [0. 0. 0. ... 0. 0. 1.]\n",
      " [0. 0. 0. ... 0. 0. 1.]\n",
      " [0. 0. 0. ... 0. 0. 1.]]\n"
     ]
    }
   ],
   "source": [
    "print(features, labels)"
   ]
  },
  {
   "cell_type": "code",
   "execution_count": 64,
   "metadata": {},
   "outputs": [
    {
     "name": "stdout",
     "output_type": "stream",
     "text": [
      "(800, 25010)\n",
      "(200, 25010)\n",
      "(800, 25000)\n",
      "(200, 25000)\n"
     ]
    }
   ],
   "source": [
    "training_split = 0.8\n",
    "\n",
    "alldata = np.column_stack((features, labels))\n",
    "np.random.shuffle(alldata)\n",
    "splitidx = int(len(alldata) * training_split)\n",
    "train, test = alldata[:splitidx,:], alldata[splitidx:, :]\n",
    "\n",
    "print(np.shape(train))\n",
    "print(np.shape(test))\n",
    "\n",
    "#because of one hot encoding\n",
    "train_input = train[:,:-10]\n",
    "train_labels = train[:,-10:]\n",
    "\n",
    "test_input = test[:,:-10]\n",
    "test_labels = test[:,-10:]\n",
    "\n",
    "\n",
    "print(np.shape(train_input))\n",
    "print(np.shape(test_input))"
   ]
  },
  {
   "cell_type": "code",
   "execution_count": 69,
   "metadata": {},
   "outputs": [
    {
     "name": "stdout",
     "output_type": "stream",
     "text": [
      "Model: \"sequential_9\"\n",
      "_________________________________________________________________\n",
      "Layer (type)                 Output Shape              Param #   \n",
      "=================================================================\n",
      "dense_18 (Dense)             (None, 100)               2500100   \n",
      "_________________________________________________________________\n",
      "activation_18 (Activation)   (None, 100)               0         \n",
      "_________________________________________________________________\n",
      "dense_19 (Dense)             (None, 10)                1010      \n",
      "_________________________________________________________________\n",
      "activation_19 (Activation)   (None, 10)                0         \n",
      "=================================================================\n",
      "Total params: 2,501,110\n",
      "Trainable params: 2,501,110\n",
      "Non-trainable params: 0\n",
      "_________________________________________________________________\n",
      "None\n",
      "Epoch 1/10\n",
      "20/20 [==============================] - 0s 24ms/step - loss: 2.0214 - accuracy: 0.2969 - val_loss: 1.6742 - val_accuracy: 0.4125\n",
      "Epoch 2/10\n",
      "20/20 [==============================] - 0s 11ms/step - loss: 1.3807 - accuracy: 0.5234 - val_loss: 1.5827 - val_accuracy: 0.4375\n",
      "Epoch 3/10\n",
      "20/20 [==============================] - 0s 12ms/step - loss: 1.0318 - accuracy: 0.6578 - val_loss: 1.6817 - val_accuracy: 0.4625\n",
      "Epoch 4/10\n",
      "20/20 [==============================] - 0s 13ms/step - loss: 0.8187 - accuracy: 0.7547 - val_loss: 1.5886 - val_accuracy: 0.4875\n",
      "Epoch 5/10\n",
      "20/20 [==============================] - 0s 12ms/step - loss: 0.6365 - accuracy: 0.8375 - val_loss: 1.6415 - val_accuracy: 0.4750\n",
      "Epoch 6/10\n",
      "20/20 [==============================] - 0s 12ms/step - loss: 0.5330 - accuracy: 0.8719 - val_loss: 1.4663 - val_accuracy: 0.5250\n",
      "Epoch 7/10\n",
      "20/20 [==============================] - 0s 12ms/step - loss: 0.3723 - accuracy: 0.9422 - val_loss: 1.4144 - val_accuracy: 0.5750\n",
      "Epoch 8/10\n",
      "20/20 [==============================] - 0s 12ms/step - loss: 0.2709 - accuracy: 0.9719 - val_loss: 1.4169 - val_accuracy: 0.5437\n",
      "Epoch 9/10\n",
      "20/20 [==============================] - 0s 12ms/step - loss: 0.2077 - accuracy: 0.9828 - val_loss: 1.5076 - val_accuracy: 0.5375\n",
      "Epoch 10/10\n",
      "20/20 [==============================] - 0s 12ms/step - loss: 0.1642 - accuracy: 0.9937 - val_loss: 1.5416 - val_accuracy: 0.4875\n",
      "7/7 [==============================] - 0s 3ms/step - loss: 1.6341 - accuracy: 0.4800\n",
      "Done!\n",
      "Loss: 1.6341, accuracy: 0.4800\n"
     ]
    }
   ],
   "source": [
    "model = Sequential([\n",
    "    Dense(100, input_dim=np.shape(train_input)[1]),\n",
    "    Activation('relu'),\n",
    "    Dense(10),\n",
    "    Activation('softmax'),\n",
    "])\n",
    "\n",
    "model.compile(optimizer='adam', \n",
    "               loss='categorical_crossentropy', \n",
    "               metrics=['accuracy'])\n",
    "\n",
    "print(model.summary())\n",
    "\n",
    "model.fit(train_input, train_labels, epochs=10, batch_size=32, \n",
    "          validation_split=0.2)\n",
    "\n",
    "loss,acc = model.evaluate(test_input, test_labels, batch_size=32)\n",
    "\n",
    "print('Done!')\n",
    "print('Loss: %.4f, accuracy: %.4f' %(loss,acc))"
   ]
  },
  {
   "cell_type": "code",
   "execution_count": 70,
   "metadata": {},
   "outputs": [
    {
     "name": "stdout",
     "output_type": "stream",
     "text": [
      "Saved model to disk\n"
     ]
    }
   ],
   "source": [
    "# serialize model to JSON\n",
    "model_json = model.to_json()\n",
    "with open(\"model.json\", \"w\") as json_file:\n",
    "    json_file.write(model_json)\n",
    "# serialize weights to HDF5\n",
    "model.save_weights(\"model.h5\")\n",
    "print(\"Saved model to disk\")"
   ]
  },
  {
   "cell_type": "code",
   "execution_count": null,
   "metadata": {},
   "outputs": [],
   "source": []
  }
 ],
 "metadata": {
  "kernelspec": {
   "display_name": "Python 3",
   "language": "python",
   "name": "python3"
  },
  "language_info": {
   "codemirror_mode": {
    "name": "ipython",
    "version": 3
   },
   "file_extension": ".py",
   "mimetype": "text/x-python",
   "name": "python",
   "nbconvert_exporter": "python",
   "pygments_lexer": "ipython3",
   "version": "3.7.5"
  }
 },
 "nbformat": 4,
 "nbformat_minor": 4
}
